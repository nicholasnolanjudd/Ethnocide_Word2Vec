{
  "cells": [
    {
      "cell_type": "code",
      "execution_count": 1,
      "metadata": {
        "colab": {
          "base_uri": "https://localhost:8080/"
        },
        "id": "nG8kq6jtWtYm",
        "outputId": "722a2e37-55dc-4c20-a402-f3cf481dd59f"
      },
      "outputs": [
        {
          "output_type": "stream",
          "name": "stdout",
          "text": [
            "Requirement already satisfied: scikit-learn in /usr/local/lib/python3.10/dist-packages (1.2.2)\n",
            "Requirement already satisfied: numpy>=1.17.3 in /usr/local/lib/python3.10/dist-packages (from scikit-learn) (1.25.2)\n",
            "Requirement already satisfied: scipy>=1.3.2 in /usr/local/lib/python3.10/dist-packages (from scikit-learn) (1.11.4)\n",
            "Requirement already satisfied: joblib>=1.1.1 in /usr/local/lib/python3.10/dist-packages (from scikit-learn) (1.3.2)\n",
            "Requirement already satisfied: threadpoolctl>=2.0.0 in /usr/local/lib/python3.10/dist-packages (from scikit-learn) (3.3.0)\n"
          ]
        }
      ],
      "source": [
        "%pip install scikit-learn\n",
        "# %pip install tqdm\n",
        "# %pip install torch\n",
        "# %pip install spacy\n",
        "# %pip install gensim\n",
        "# !pip3 install https://github.com/explosion/spacy-models/releases/download/en_core_web_sm-3.7.1/en_core_web_sm-3.7.1.tar.gz"
      ]
    },
    {
      "cell_type": "code",
      "execution_count": 2,
      "metadata": {
        "id": "4_o3PM_9MOkH"
      },
      "outputs": [],
      "source": [
        "import spacy\n",
        "\n",
        "nlp = spacy.load(\"en_core_web_sm\")\n",
        "\n",
        "def spacy_process(text):\n",
        "    doc = nlp(text)\n",
        "\n",
        "    filtered_sentence = [\n",
        "        token.lemma_ for token in doc\n",
        "        if not token.is_stop and token.lemma_ not in \"?:!.,;' ()\\\"/123456789\"\n",
        "    ]\n",
        "\n",
        "    return filtered_sentence"
      ]
    },
    {
      "cell_type": "code",
      "execution_count": 4,
      "metadata": {
        "id": "W2f4c7sS9I9N",
        "colab": {
          "base_uri": "https://localhost:8080/"
        },
        "outputId": "c7cf44f8-e4c3-4396-c6ba-619246ffec75"
      },
      "outputs": [
        {
          "output_type": "stream",
          "name": "stdout",
          "text": [
            "['On February 19, in Brasília, political consultations between the Ministries of Foreign Affairs of the Republic of Armenia and the Federal Republic of Brazil took place. The consultations were held by Paruyr Hovhannisyan, Deputy Minister of Foreign Affairs of Armenia and Maria Laura da Rocha, Secretary-General of the Ministry of Foreign Affairs of Brazil.', 'The parties discussed issues on bilateral agenda, emphasized mutual willingness to intensify the Armenian-Brazilian political dialogue, expand the legal framework, and further develop inter-parliamentary, trade and economic ties.', 'The interlocutors touched upon the cooperation within the framework of international organizations, stressing the importance of regular consultations between the Ministries of the two countries.', 'During the meeting, regional transport and economic projects were touched upon. In this context, Deputy Minister Paruyr Hovhannisyan presented the «Crossroads of Peace» initiative developed by the Government of the Republic of Armenia.', 'The Deputy Minister briefed his Brazilian counterpart on the security situation in the South Caucasus and the steps undertaken to normalize the relations between Armenia and Azerbaijan.', 'The interlocutors exchanged views on other issues of the international agenda as well.']\n"
          ]
        }
      ],
      "source": [
        "import json\n",
        "from gensim.test.utils import common_texts\n",
        "from gensim.models import Word2Vec\n",
        "\n",
        "# f = open('./data (2).json', 'r')\n",
        "f = open('./prdata.json', \"r\")\n",
        "interview_data = json.load(f)\n",
        "f.close()\n",
        "\n",
        "total = []\n",
        "total_t = []\n",
        "for x in range(425):\n",
        "    for y in range(10):\n",
        "        total_t.append(interview_data[str(x) + ',' + str(y)])\n",
        "        total += interview_data[str(x) + ',' + str(y)]\n",
        "\n",
        "# t = []\n",
        "# for x in total:\n",
        "#     t += x.replace(\"!\", \".\").replace(\"?\", \".\").split(\".\")\n",
        "# print(len(t))\n",
        "print(total_t[0])"
      ]
    },
    {
      "cell_type": "code",
      "execution_count": 5,
      "metadata": {
        "colab": {
          "base_uri": "https://localhost:8080/"
        },
        "id": "4_v2hpr-RmpA",
        "outputId": "62bef960-14db-4b20-c8be-cb9cd09dc6bc"
      },
      "outputs": [
        {
          "output_type": "stream",
          "name": "stderr",
          "text": [
            "100%|██████████| 19854/19854 [08:36<00:00, 38.46it/s]\n"
          ]
        }
      ],
      "source": [
        "from tqdm import tqdm\n",
        "\n",
        "\n",
        "file_list = []\n",
        "for text in tqdm(total):\n",
        "  for sentence in text.split('.'):\n",
        "    file_list.append(spacy_process(sentence))\n",
        "\n",
        "\n",
        "with open('./sampled_data.json','w') as f:\n",
        "  json.dump(file_list, f)"
      ]
    },
    {
      "cell_type": "code",
      "execution_count": 6,
      "metadata": {
        "id": "ZJv9z5LSEZT5"
      },
      "outputs": [],
      "source": [
        "model = Word2Vec(sentences=file_list, vector_size=100, window=5, min_count=1, workers=4)\n",
        "model.save(\"word2vec.model\")"
      ]
    },
    {
      "cell_type": "code",
      "execution_count": 7,
      "metadata": {
        "id": "0OImMNQlHpTD"
      },
      "outputs": [],
      "source": [
        "import numpy as np\n",
        "\n",
        "def word_similarity(a, b):\n",
        "  return np.dot(a, b)/(np.linalg.norm(a)*np.linalg.norm(b))"
      ]
    },
    {
      "cell_type": "code",
      "execution_count": 8,
      "metadata": {
        "colab": {
          "base_uri": "https://localhost:8080/"
        },
        "id": "BDNddZZJQoJD",
        "outputId": "dfaf691d-b70e-40ab-adf6-2c575842cc58"
      },
      "outputs": [
        {
          "output_type": "execute_result",
          "data": {
            "text/plain": [
              "-0.17341149"
            ]
          },
          "metadata": {},
          "execution_count": 8
        }
      ],
      "source": [
        "\n",
        "list_of_anxious_words_in_text = [\n",
        "    \"conflict\", \"Artsakh\",\n",
        "]\n",
        "\n",
        "anxious_vector = np.mean(np.array([\n",
        "    model.wv[word] for word in list_of_anxious_words_in_text\n",
        "]), axis=0)\n",
        "\n",
        "word_similarity(model.wv['Armenia'], model.wv['World'])"
      ]
    },
    {
      "cell_type": "code",
      "execution_count": 9,
      "metadata": {
        "id": "a36xtTshKHfj"
      },
      "outputs": [],
      "source": [
        "# Here we import the correlation data\n",
        "import numpy as np\n",
        "\n",
        "\n",
        "def calculate_vector(sentence):\n",
        "    return np.mean(np.array([\n",
        "        model.wv[word] for word in spacy_process(sentence)\n",
        "    ]), axis=0)\n",
        "\n",
        "\n",
        "def get_dataset(testing=False):\n",
        "    dataset = []\n",
        "    skipped = 0\n",
        "    with open(\"coded.txt\", \"r\") as f:\n",
        "        data = f.readlines()\n",
        "        for line in data:\n",
        "            index, status = line.split(\":\")\n",
        "            status = status.replace(\" \", \"\").replace(\"\\n\", \"\")\n",
        "            doc, sentence_index = index.split(\",\")\n",
        "            try:\n",
        "                sentence = total[int(doc)].replace(\"?\", \".\").replace(\"!\", \".\").split(\".\")[int(sentence_index)]\n",
        "                if sentence == \"\" or sentence == \" \":\n",
        "                    skipped += 1\n",
        "                    continue\n",
        "\n",
        "                if not testing:\n",
        "                    if status == \"Y\":\n",
        "                        dataset.append((torch.from_numpy(calculate_vector(sentence)), torch.Tensor([1, 0])))\n",
        "                    elif status == \"V\" or status == \"N\":\n",
        "                        dataset.append((torch.from_numpy(calculate_vector(sentence)), torch.Tensor([0, 1])))\n",
        "                else:\n",
        "                    dataset.append(torch.from_numpy(calculate_vector(sentence)))\n",
        "\n",
        "            except:\n",
        "                skipped += 1\n",
        "\n",
        "\n",
        "    print(f\"Skipped {skipped} datasets. Check if error.\")\n",
        "    return dataset\n"
      ]
    },
    {
      "cell_type": "code",
      "execution_count": 10,
      "metadata": {
        "colab": {
          "base_uri": "https://localhost:8080/"
        },
        "id": "efOzYyRXO018",
        "outputId": "218334c1-7629-479f-b856-f44372398ed3"
      },
      "outputs": [
        {
          "output_type": "stream",
          "name": "stdout",
          "text": [
            "Yesses: 86, Noes: 1716, invalids: 125\n"
          ]
        }
      ],
      "source": [
        "with open(\"coded.txt\", \"r\") as f:\n",
        "    data = f.readlines()\n",
        "\n",
        "    y, n, i = 0, 0, 0\n",
        "    unaccounted = 0\n",
        "    errors = []\n",
        "    for line in data:\n",
        "        x = line.split(\":\")[-1].replace(\" \", \"\").replace(\"\\n\", \"\")\n",
        "        if x == \"Y\":\n",
        "            y += 1\n",
        "        elif x == \"N\":\n",
        "            n += 1\n",
        "        elif x == \"I\":\n",
        "            i += 1\n",
        "        else:\n",
        "            n += 1\n",
        "\n",
        "print(f\"Yesses: {y}, Noes: {n}, invalids: {i}\")\n"
      ]
    },
    {
      "cell_type": "code",
      "execution_count": null,
      "metadata": {
        "id": "8cLDuRw_O01-",
        "outputId": "50692e0c-4c03-4d35-dba7-082057d172f8"
      },
      "outputs": [
        {
          "name": "stdout",
          "output_type": "stream",
          "text": [
            "Skipped 1 datasets. Check if error.\n",
            "Epoch: 1/50\n",
            "Balanced Accuracy: 73.22%\n",
            "0.004366438370198011\n",
            "Epoch: 2/50\n",
            "Balanced Accuracy: 85.57%\n",
            "0.0001504270767327398\n",
            "Epoch: 3/50\n",
            "Balanced Accuracy: 88.10%\n",
            "2.3185850295703858e-05\n",
            "Epoch: 4/50\n",
            "Balanced Accuracy: 88.99%\n",
            "7.152523721742909e-06\n",
            "Epoch: 5/50\n",
            "Balanced Accuracy: 88.85%\n",
            "3.1590398066327907e-06\n",
            "Epoch: 6/50\n",
            "Balanced Accuracy: 88.85%\n",
            "1.668928234721534e-06\n",
            "Epoch: 7/50\n",
            "Balanced Accuracy: 88.70%\n",
            "1.0132782790606143e-06\n",
            "Epoch: 8/50\n",
            "Balanced Accuracy: 87.80%\n",
            "5.960462203802308e-07\n",
            "Epoch: 9/50\n",
            "Balanced Accuracy: 86.91%\n",
            "4.768370445162873e-07\n",
            "Epoch: 10/50\n",
            "Balanced Accuracy: 86.91%\n",
            "2.9802316703353426e-07\n",
            "Epoch: 11/50\n",
            "Balanced Accuracy: 86.76%\n",
            "2.3841855067985307e-07\n",
            "Epoch: 12/50\n",
            "Balanced Accuracy: 85.87%\n",
            "1.7881392011531716e-07\n",
            "Epoch: 13/50\n",
            "Balanced Accuracy: 86.91%\n",
            "1.1920928244535389e-07\n",
            "Epoch: 14/50\n",
            "Balanced Accuracy: 86.91%\n",
            "5.9604641222676946e-08\n",
            "Epoch: 15/50\n",
            "Balanced Accuracy: 88.85%\n",
            "5.9604641222676946e-08\n",
            "Epoch: 16/50\n",
            "Balanced Accuracy: 89.74%\n",
            "5.9604641222676946e-08\n",
            "Epoch: 17/50\n",
            "Balanced Accuracy: 89.74%\n",
            "5.9604641222676946e-08\n",
            "Epoch: 18/50\n",
            "Balanced Accuracy: 89.74%\n",
            "0.0\n",
            "Epoch: 19/50\n",
            "Balanced Accuracy: 90.63%\n",
            "0.0\n",
            "Epoch: 20/50\n",
            "Balanced Accuracy: 90.78%\n",
            "0.0\n",
            "Epoch: 21/50\n",
            "Balanced Accuracy: 90.78%\n",
            "0.0\n",
            "Epoch: 22/50\n",
            "Balanced Accuracy: 90.78%\n",
            "0.0\n",
            "Epoch: 23/50\n",
            "Balanced Accuracy: 90.63%\n",
            "0.0\n",
            "Epoch: 24/50\n",
            "Balanced Accuracy: 90.63%\n",
            "0.0\n",
            "Epoch: 25/50\n",
            "Balanced Accuracy: 90.63%\n",
            "0.0\n",
            "Epoch: 26/50\n",
            "Balanced Accuracy: 90.63%\n",
            "0.0\n",
            "Epoch: 27/50\n",
            "Balanced Accuracy: 90.63%\n",
            "0.0\n",
            "Epoch: 28/50\n",
            "Balanced Accuracy: 90.63%\n",
            "0.0\n",
            "Epoch: 29/50\n",
            "Balanced Accuracy: 92.42%\n",
            "0.0\n",
            "Epoch: 30/50\n",
            "Balanced Accuracy: 92.42%\n",
            "0.0\n",
            "Epoch: 31/50\n",
            "Balanced Accuracy: 92.42%\n",
            "0.0\n",
            "Epoch: 32/50\n",
            "Balanced Accuracy: 92.42%\n",
            "0.0\n",
            "Epoch: 33/50\n",
            "Balanced Accuracy: 92.42%\n",
            "0.0\n",
            "Epoch: 34/50\n",
            "Balanced Accuracy: 92.42%\n",
            "0.0\n",
            "Epoch: 35/50\n",
            "Balanced Accuracy: 92.42%\n",
            "0.0\n",
            "Epoch: 36/50\n",
            "Balanced Accuracy: 92.42%\n",
            "0.0\n",
            "Epoch: 37/50\n",
            "Balanced Accuracy: 92.27%\n",
            "0.0\n",
            "Epoch: 38/50\n",
            "Balanced Accuracy: 92.42%\n",
            "0.0\n",
            "Epoch: 39/50\n",
            "Balanced Accuracy: 92.27%\n",
            "0.0\n",
            "Epoch: 40/50\n",
            "Balanced Accuracy: 92.27%\n",
            "0.0\n",
            "Epoch: 41/50\n",
            "Balanced Accuracy: 92.27%\n",
            "0.0\n",
            "Epoch: 42/50\n",
            "Balanced Accuracy: 92.27%\n",
            "0.0\n",
            "Epoch: 43/50\n",
            "Balanced Accuracy: 92.27%\n",
            "0.0\n",
            "Epoch: 44/50\n",
            "Balanced Accuracy: 92.27%\n",
            "0.0\n",
            "Epoch: 45/50\n",
            "Balanced Accuracy: 92.27%\n",
            "0.0\n",
            "Epoch: 46/50\n",
            "Balanced Accuracy: 92.42%\n",
            "0.0\n",
            "Epoch: 47/50\n",
            "Balanced Accuracy: 92.57%\n",
            "0.0\n",
            "Epoch: 48/50\n",
            "Balanced Accuracy: 92.57%\n",
            "0.0\n",
            "Epoch: 49/50\n",
            "Balanced Accuracy: 92.57%\n",
            "0.0\n",
            "Epoch: 50/50\n",
            "Balanced Accuracy: 92.57%\n",
            "0.0\n",
            "Best model found had accuracy of: 92.57%\n"
          ]
        }
      ],
      "source": [
        "import torch, random\n",
        "import torch.nn as nn\n",
        "\n",
        "\n",
        "class NeuralNetwork(nn.Module):\n",
        "    def __init__(self):\n",
        "        super(NeuralNetwork, self).__init__()\n",
        "\n",
        "        self.layer1 = nn.Linear(100, 50)\n",
        "        self.layer2 = nn.Linear(50, 10)\n",
        "        self.layer3 = nn.Linear(10, 2)\n",
        "\n",
        "        self.relu = nn.ReLU()\n",
        "\n",
        "\n",
        "    def forward(self, x):\n",
        "        x = self.relu(self.layer1(x))\n",
        "        x = self.relu(self.layer2(x))\n",
        "        x = self.layer3(x)\n",
        "        return x\n",
        "\n",
        "\n",
        "num_epochs = 50\n",
        "batch_size = 1\n",
        "learning_rate = 0.0001\n",
        "\n",
        "nnModel =  NeuralNetwork()\n",
        "\n",
        "criterion = nn.BCEWithLogitsLoss()\n",
        "optimizer = torch.optim.Adam(nnModel.parameters(), lr=learning_rate)\n",
        "\n",
        "dataset = get_dataset()\n",
        "random.shuffle(dataset)\n",
        "train_dataset = dataset[:int(len(dataset)*0.8)]\n",
        "test_dataset = dataset[int(len(dataset)*0.8):]\n",
        "\n",
        "best = None\n",
        "\n",
        "for epoch in range(num_epochs):\n",
        "    print(f\"Epoch: {epoch+1}/{num_epochs}\")\n",
        "    for items, labels in train_dataset:\n",
        "        outputs = nnModel(items)\n",
        "        loss = criterion(outputs, labels)\n",
        "        optimizer.zero_grad()\n",
        "        loss.backward()\n",
        "        optimizer.step()\n",
        "\n",
        "    acc = test_network(nnModel, test_dataset)\n",
        "    if best:\n",
        "        if best[1] < acc:\n",
        "            best = (nnModel, acc)\n",
        "    else:\n",
        "        best = (nnModel, acc)\n",
        "\n",
        "    print(loss.item())\n",
        "\n",
        "print(f\"Best model found had accuracy of: {best[1]:.2f}%\")"
      ]
    },
    {
      "cell_type": "code",
      "execution_count": null,
      "metadata": {
        "id": "ltPILKlAO01_",
        "outputId": "bf23baf6-36d1-4389-f542-89ba33f68801"
      },
      "outputs": [
        {
          "data": {
            "text/plain": [
              "'In the course of lecture, Karine Kazinian touched upon the processes of regional integration currently existing in the South Caucasus and relations of Armenian with the neighboring countries'"
            ]
          },
          "execution_count": 201,
          "metadata": {},
          "output_type": "execute_result"
        }
      ],
      "source": [
        "total[19034].replace(\"!\", \".\").replace(\"?\", \".\").split(\".\")[1]"
      ]
    },
    {
      "cell_type": "code",
      "execution_count": null,
      "metadata": {
        "id": "JquYFb-GO02A"
      },
      "outputs": [],
      "source": [
        "from sklearn.metrics import confusion_matrix, balanced_accuracy_score\n",
        "\n",
        "\n",
        "def test_network(nnModel, test_dataset):\n",
        "    predicted_labels = []\n",
        "    true_labels = []\n",
        "\n",
        "    with torch.no_grad():\n",
        "        for item in test_dataset:\n",
        "            out = nnModel(item[0])\n",
        "\n",
        "            preds = torch.argmax(out)\n",
        "            y = torch.argmax(item[1])\n",
        "\n",
        "            predicted_labels.append(preds)\n",
        "            true_labels.append(y)\n",
        "\n",
        "        balanced_acc = balanced_accuracy_score(true_labels, predicted_labels)*100\n",
        "\n",
        "        print(f\"Balanced Accuracy: {balanced_acc:.2f}%\")\n",
        "        conf_matrix = confusion_matrix(true_labels, predicted_labels)\n",
        "        print(conf_matrix)\n",
        "\n"
      ]
    },
    {
      "cell_type": "code",
      "execution_count": null,
      "metadata": {
        "id": "I1Wcan9ZO02B",
        "outputId": "d85992a2-dae7-49a6-cb13-1c2136112019"
      },
      "outputs": [
        {
          "name": "stdout",
          "output_type": "stream",
          "text": [
            "['On February 19, in Brasília, political consultations between the Ministries of Foreign Affairs of the Republic of Armenia and the Federal Republic of Brazil took place. The consultations were held by Paruyr Hovhannisyan, Deputy Minister of Foreign Affairs of Armenia and Maria Laura da Rocha, Secretary-General of the Ministry of Foreign Affairs of Brazil.', 'The parties discussed issues on bilateral agenda, emphasized mutual willingness to intensify the Armenian-Brazilian political dialogue, expand the legal framework, and further develop inter-parliamentary, trade and economic ties.', 'The interlocutors touched upon the cooperation within the framework of international organizations, stressing the importance of regular consultations between the Ministries of the two countries.', 'During the meeting, regional transport and economic projects were touched upon. In this context, Deputy Minister Paruyr Hovhannisyan presented the «Crossroads of Peace» initiative developed by the Government of the Republic of Armenia.', 'The Deputy Minister briefed his Brazilian counterpart on the security situation in the South Caucasus and the steps undertaken to normalize the relations between Armenia and Azerbaijan.', 'The interlocutors exchanged views on other issues of the international agenda as well.']\n"
          ]
        }
      ],
      "source": [
        "# test_network(nnModel, test_dataset)\n",
        "print(total_t[0])"
      ]
    },
    {
      "cell_type": "code",
      "execution_count": null,
      "metadata": {
        "id": "Ptuz2b84O02C",
        "outputId": "a6396c9d-93c2-41b9-d68c-463be8c23ae7"
      },
      "outputs": [
        {
          "name": "stdout",
          "output_type": "stream",
          "text": [
            "57\n"
          ]
        }
      ],
      "source": [
        "tt_index = []\n",
        "t = len(total)\n",
        "for i in total_t:\n",
        "    t -= len(i)\n",
        "    tt_index.append(t)\n",
        "\n",
        "index_chunks = []\n",
        "i = 0\n",
        "with open(\"times.txt\", \"r\") as f:\n",
        "    dat = f.readlines()\n",
        "    for line in dat:\n",
        "        if line == \"\" or line == \"\\n\":\n",
        "            continue\n",
        "        d = line.split(\" \")[-2:]\n",
        "        if len(d) < 2:\n",
        "            continue\n",
        "        else:\n",
        "            index = (int(d[0].split(\",\")[0])*10) + (int(d[1][:-1]))\n",
        "            i += 1\n",
        "            index_chunks.append(tt_index[index])\n",
        "\n",
        "print(len(index_chunks))"
      ]
    },
    {
      "cell_type": "code",
      "execution_count": null,
      "metadata": {
        "id": "yPoR21SoO02D"
      },
      "outputs": [],
      "source": [
        "tt_index = []\n",
        "t = len(total)\n",
        "for i in total_t:\n",
        "    t -= len(i)\n",
        "    tt_index.append(t)\n",
        "\n",
        "index_chunks = []\n",
        "i = 0\n",
        "with open(\"times.txt\", \"r\") as f:\n",
        "    dat = f.readlines()\n",
        "    for line in dat:\n",
        "        d = line.split(\" \")[1:]\n",
        "        start, end = \"\".join(d)[:-1].replace(\"o\", \"\").split(\"t\")\n",
        "        start = (int(start.split(\",\")[0])*10) + int(start.split(\",\")[1])\n",
        "        end = (int(end.split(\",\")[0])*10) + int(end.split(\",\")[1])\n",
        "        index_chunks.append(tt_index[end])\n",
        "\n"
      ]
    },
    {
      "cell_type": "code",
      "execution_count": null,
      "metadata": {
        "scrolled": false,
        "id": "PKx_-IOTO02F",
        "outputId": "a843deae-0fad-47a2-ea15-6dec55b9c36b"
      },
      "outputs": [
        {
          "name": "stdout",
          "output_type": "stream",
          "text": [
            "[23, 26, 10, 11, 12, 24, 42, 41, 9, 53, 9, 11, 6, 38, 12, 111, 44, 16, 75, 91, 35, 41, 14, 38, 29]\n",
            "[0.022072936660268713, 0.02813852813852814, 0.010277492291880781, 0.01220865704772475, 0.015544041450777202, 0.024120603015075376, 0.032036613272311214, 0.034834324553950725, 0.013824884792626729, 0.06973684210526315, 0.014423076923076924, 0.024608501118568233, 0.006085192697768763, 0.06158833063209076, 0.02891566265060241, 0.11419753086419752, 0.04360753221010902, 0.017977528089887642, 0.04746835443037975, 0.06245710363761153, 0.035211267605633804, 0.020961145194274028, 0.010819165378670788, 0.02101769911504425, 0.014894709809964048]\n",
            "[0.028014616321559074, 0.031668696711327646, 0.012180267965895249, 0.013398294762484775, 0.014616321559074299, 0.029232643118148598, 0.05115712545676005, 0.049939098660170524, 0.010962241169305725, 0.06455542021924482, 0.010962241169305725, 0.013398294762484775, 0.007308160779537149, 0.04628501827040195, 0.014616321559074299, 0.13520097442143728, 0.0535931790499391, 0.0194884287454324, 0.09135200974421437, 0.11084043848964677, 0.04263093788063337, 0.049939098660170524, 0.01705237515225335, 0.04628501827040195, 0.03532277710109622]\n"
          ]
        },
        {
          "data": {
            "image/png": "[encoded data removed]",
            "text/plain": [
              "<Figure size 432x288 with 1 Axes>"
            ]
          },
          "metadata": {
            "needs_background": "light"
          },
          "output_type": "display_data"
        }
      ],
      "source": [
        "import matplotlib.pyplot as plt\n",
        "import numpy as np\n",
        "from tqdm import tqdm\n",
        "\n",
        "# graphing_dataset = []\n",
        "# skipped = 0\n",
        "# for item in tqdm(total):\n",
        "#     sentences = item.replace(\"?\", \".\").replace(\"!\", \".\").split(\".\")\n",
        "#     c = []\n",
        "#     for sentence in sentences:\n",
        "#         if sentence == \"\" or sentence == \" \":\n",
        "#             skipped += 1\n",
        "#             continue\n",
        "#         try:\n",
        "#             v = calculate_vector(sentence)\n",
        "#             c.append(torch.from_numpy(v))\n",
        "#         except Exception as e:\n",
        "#             pass\n",
        "#     graphing_dataset.append(c)\n",
        "\n",
        "# print(f\"Error rate: {(skipped/len(graphing_dataset))*100:.2f}\")\n",
        "\n",
        "vals = []\n",
        "t_vals = []\n",
        "i = 0\n",
        "# m = max(index_chunks)/100\n",
        "# index_chunk_test = [m*(i+1) for i in range(100)]\n",
        "for j in range(len(index_chunks)):\n",
        "    r = 0\n",
        "    z = 1\n",
        "    while i < index_chunks[j]:\n",
        "        i += 1\n",
        "        for sentence in graphing_dataset[i]:\n",
        "            z += 1\n",
        "            x = torch.argmax(nnModel(sentence))\n",
        "            if x == 0:\n",
        "                r += 1\n",
        "    vals.append(r/z)\n",
        "    t_vals.append(r)\n",
        "\n",
        "\n",
        "vals = vals[8*4:]\n",
        "t_vals = t_vals[8*4:]\n",
        "print(t_vals)\n",
        "print(vals)\n",
        "total_t_vals = sum(t_vals)\n",
        "print([val/total_t_vals for val in t_vals])\n",
        "plot = plt.bar([2018+(i*0.25) for i in range(len(vals))], [100*(val/total_t_vals) for val in vals])\n",
        "# for i in range(len(vals)):\n",
        "#     print(f\"{2010+(i*0.25)+2}: {(vals[i]*100):.2f}\")\n",
        "plt.show()\n",
        ""
      ]
    },
    {
      "cell_type": "code",
      "execution_count": null,
      "metadata": {
        "id": "WWxtKlwAO02G"
      },
      "outputs": [],
      "source": []
    }
  ],
  "metadata": {
    "colab": {
      "provenance": []
    },
    "kernelspec": {
      "display_name": "Python 3",
      "language": "python",
      "name": "python3"
    },
    "language_info": {
      "codemirror_mode": {
        "name": "ipython",
        "version": 3
      },
      "file_extension": ".py",
      "mimetype": "text/x-python",
      "name": "python",
      "nbconvert_exporter": "python",
      "pygments_lexer": "ipython3",
      "version": "3.8.5"
    }
  },
  "nbformat": 4,
  "nbformat_minor": 0
}